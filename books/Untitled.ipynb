{
 "cells": [
  {
   "cell_type": "code",
   "execution_count": 10,
   "metadata": {
    "collapsed": true
   },
   "outputs": [],
   "source": [
    "import pandas as pd\n",
    "import matplotlib.pyplot as plt\n",
    "\n",
    "%matplotlib inline"
   ]
  },
  {
   "cell_type": "code",
   "execution_count": 3,
   "metadata": {
    "collapsed": true
   },
   "outputs": [],
   "source": [
    "df = pd.read_excel('/Users/nickybangs/Downloads/2011_fsa_acres_detail_jan2012.xlsx')"
   ]
  },
  {
   "cell_type": "code",
   "execution_count": 4,
   "metadata": {
    "collapsed": false
   },
   "outputs": [
    {
     "data": {
      "text/plain": [
       "Index(['State Code', 'County Code', 'State Name', 'County Name', 'Crop Code',\n",
       "       'Crop Name', 'Crop Type', 'Crop Type Name', 'Intended Use',\n",
       "       'Planted\\nTotal', 'Prevented\\nTotal', 'Failed\\nTotal',\n",
       "       'Volunteer\\nTotal', 'Not Planted\\nTotal', 'Plant and Fail\\nTotal',\n",
       "       'Planted\\nIrrigated', 'Prevented\\nIrrigated', 'Failed\\nIrrigated',\n",
       "       'Volunteer\\nIrrigated', 'Not Planted\\nIrrigated',\n",
       "       'Plant and Fail\\nIrrigated', 'Planted\\nNonirrigated',\n",
       "       'Prevented\\nNonirrigated', 'Failed\\nNonirrigated',\n",
       "       'Volunteer\\nNonirrigated', 'Not Planted\\nNonirrigated',\n",
       "       'Plant and Fail\\nNonirrigated'],\n",
       "      dtype='object')"
      ]
     },
     "execution_count": 4,
     "metadata": {},
     "output_type": "execute_result"
    }
   ],
   "source": [
    "df.columns"
   ]
  },
  {
   "cell_type": "code",
   "execution_count": 28,
   "metadata": {
    "collapsed": false
   },
   "outputs": [
    {
     "data": {
      "image/png": "[encoded data removed]",
      "text/plain": [
       "<matplotlib.figure.Figure at 0x118a506d8>"
      ]
     },
     "metadata": {},
     "output_type": "display_data"
    }
   ],
   "source": [
    "plt.hist(sorted(df['Failed\\nTotal'].value_counts())[:-1],bins=30);"
   ]
  },
  {
   "cell_type": "code",
   "execution_count": 31,
   "metadata": {
    "collapsed": false
   },
   "outputs": [
    {
     "data": {
      "text/plain": [
       "14"
      ]
     },
     "execution_count": 31,
     "metadata": {},
     "output_type": "execute_result"
    }
   ],
   "source": [
    "sorted(df['Failed\\nTotal'].value_counts())[:-5][-10]"
   ]
  },
  {
   "cell_type": "code",
   "execution_count": null,
   "metadata": {
    "collapsed": true
   },
   "outputs": [],
   "source": []
  }
 ],
 "metadata": {
  "kernelspec": {
   "display_name": "Python [conda root]",
   "language": "python",
   "name": "conda-root-py"
  },
  "language_info": {
   "codemirror_mode": {
    "name": "ipython",
    "version": 3
   },
   "file_extension": ".py",
   "mimetype": "text/x-python",
   "name": "python",
   "nbconvert_exporter": "python",
   "pygments_lexer": "ipython3",
   "version": "3.5.2"
  }
 },
 "nbformat": 4,
 "nbformat_minor": 1
}
