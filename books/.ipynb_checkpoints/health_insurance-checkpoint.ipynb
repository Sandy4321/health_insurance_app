{
 "cells": [
  {
   "cell_type": "markdown",
   "metadata": {},
   "source": [
    "http://www.census.gov/did/www/sahie/data/20082014/index.html for data "
   ]
  },
  {
   "cell_type": "code",
   "execution_count": 37,
   "metadata": {
    "collapsed": true
   },
   "outputs": [],
   "source": [
    "import pandas as pd\n",
    "import numpy as np\n",
    "from pprint import pprint\n",
    "import matplotlib.pyplot as plt\n",
    "import seaborn as sns\n",
    "\n",
    "%matplotlib inline"
   ]
  },
  {
   "cell_type": "markdown",
   "metadata": {},
   "source": [
    "First we'll explore the data. We begin by reading in the CSV file for 2008."
   ]
  },
  {
   "cell_type": "code",
   "execution_count": 3,
   "metadata": {
    "collapsed": true
   },
   "outputs": [
    {
     "name": "stderr",
     "output_type": "stream",
     "text": [
      "/home/ubuntu/anaconda3/lib/python3.5/site-packages/IPython/core/interactiveshell.py:2717: DtypeWarning: Columns (9,10,11,12,13,14,15,16,17,18,19,20,21,22) have mixed types. Specify dtype option on import or set low_memory=False.\n",
      "  interactivity=interactivity, compiler=compiler, result=result)\n"
     ]
    }
   ],
   "source": [
    "df = pd.read_csv('/home/nbangs/Notebooks/data/mcnulty/sahie_2008.csv')"
   ]
  },
  {
   "cell_type": "markdown",
   "metadata": {},
   "source": [
    "There is a lot of whitespace in the columns containing stings, first we'll strip that off."
   ]
  },
  {
   "cell_type": "code",
   "execution_count": 5,
   "metadata": {
    "collapsed": true
   },
   "outputs": [],
   "source": [
    "df['state_name'] = df['state_name'].apply(str.strip)\n",
    "df['county_name'] = df['county_name'].apply(str.strip)"
   ]
  },
  {
   "cell_type": "markdown",
   "metadata": {},
   "source": [
    "We also have to take care of some string to numeric casting, and get rid of troublemakers whose value cannot be converted to a float."
   ]
  },
  {
   "cell_type": "code",
   "execution_count": 6,
   "metadata": {
    "collapsed": true
   },
   "outputs": [],
   "source": [
    "df = df[df['PCTUI']!='   . ']\n",
    "df['PCTUI'] = df['PCTUI'].apply(float)"
   ]
  },
  {
   "cell_type": "markdown",
   "metadata": {},
   "source": [
    "Just to start off, lets look at the county level total percentage of uninsured people."
   ]
  },
  {
   "cell_type": "code",
   "execution_count": 7,
   "metadata": {
    "collapsed": true
   },
   "outputs": [
    {
     "name": "stderr",
     "output_type": "stream",
     "text": [
      "/home/ubuntu/anaconda3/lib/python3.5/site-packages/ipykernel/__main__.py:1: UserWarning: Boolean Series key will be reindexed to match DataFrame index.\n",
      "  if __name__ == '__main__':\n"
     ]
    }
   ],
   "source": [
    "p_df = df[df['agecat']==0][df['racecat']==0][df['sexcat']==0][df['iprcat']==0][df['geocat']==50][['state_name','county_name','PCTUI']]"
   ]
  },
  {
   "cell_type": "code",
   "execution_count": 8,
   "metadata": {
    "collapsed": false
   },
   "outputs": [
    {
     "data": {
      "text/html": [
       "<div>\n",
       "<table border=\"1\" class=\"dataframe\">\n",
       "  <thead>\n",
       "    <tr style=\"text-align: right;\">\n",
       "      <th></th>\n",
       "      <th>state_name</th>\n",
       "      <th>county_name</th>\n",
       "      <th>PCTUI</th>\n",
       "    </tr>\n",
       "  </thead>\n",
       "  <tbody>\n",
       "    <tr>\n",
       "      <th>143380</th>\n",
       "      <td>Texas</td>\n",
       "      <td>Kenedy County</td>\n",
       "      <td>45.4</td>\n",
       "    </tr>\n",
       "    <tr>\n",
       "      <th>142580</th>\n",
       "      <td>Texas</td>\n",
       "      <td>Hudspeth County</td>\n",
       "      <td>44.5</td>\n",
       "    </tr>\n",
       "    <tr>\n",
       "      <th>146280</th>\n",
       "      <td>Texas</td>\n",
       "      <td>Presidio County</td>\n",
       "      <td>43.1</td>\n",
       "    </tr>\n",
       "    <tr>\n",
       "      <th>139580</th>\n",
       "      <td>Texas</td>\n",
       "      <td>Culberson County</td>\n",
       "      <td>42.3</td>\n",
       "    </tr>\n",
       "    <tr>\n",
       "      <th>4540</th>\n",
       "      <td>Alaska</td>\n",
       "      <td>Lake and Peninsula Borough</td>\n",
       "      <td>40.3</td>\n",
       "    </tr>\n",
       "  </tbody>\n",
       "</table>\n",
       "</div>"
      ],
      "text/plain": [
       "       state_name                 county_name  PCTUI\n",
       "143380      Texas               Kenedy County   45.4\n",
       "142580      Texas             Hudspeth County   44.5\n",
       "146280      Texas             Presidio County   43.1\n",
       "139580      Texas            Culberson County   42.3\n",
       "4540       Alaska  Lake and Peninsula Borough   40.3"
      ]
     },
     "execution_count": 8,
     "metadata": {},
     "output_type": "execute_result"
    }
   ],
   "source": [
    "p_df.sort_values('PCTUI',ascending=False).head()"
   ]
  },
  {
   "cell_type": "markdown",
   "metadata": {},
   "source": [
    "Now let's find out the percentage of uninsured people by state."
   ]
  },
  {
   "cell_type": "code",
   "execution_count": 70,
   "metadata": {
    "collapsed": false
   },
   "outputs": [
    {
     "name": "stderr",
     "output_type": "stream",
     "text": [
      "/home/ubuntu/anaconda3/lib/python3.5/site-packages/ipykernel/__main__.py:1: UserWarning: Boolean Series key will be reindexed to match DataFrame index.\n",
      "  if __name__ == '__main__':\n"
     ]
    }
   ],
   "source": [
    "s = df[df['agecat']==0][df['racecat']==0][df['sexcat']==0][df['iprcat']==0][df['geocat']==40][['state_name','PCTUI']].sort_values('PCTUI',ascending=False)"
   ]
  },
  {
   "cell_type": "code",
   "execution_count": 72,
   "metadata": {
    "collapsed": false
   },
   "outputs": [
    {
     "name": "stdout",
     "output_type": "stream",
     "text": [
      "Texas has the highest percentage uninsured at 25.7%\n",
      "Massachusetts has the lowest percentage uninsured at 4.4%\n"
     ]
    }
   ],
   "source": [
    "max_state, max_val = s[s['PCTUI']==s['PCTUI'].max()].iloc[0][0], s[s['PCTUI']==s['PCTUI'].max()].iloc[0][1]\n",
    "min_state, min_val = s[s['PCTUI']==s['PCTUI'].min()].iloc[0][0], s[s['PCTUI']==s['PCTUI'].min()].iloc[0][1]\n",
    "\n",
    "print('{} has the highest percentage uninsured at {}%'.format(max_state,round(max_val,2)))\n",
    "print('{} has the lowest percentage uninsured at {}%'.format(min_state,round(min_val,2)))"
   ]
  },
  {
   "cell_type": "code",
   "execution_count": null,
   "metadata": {
    "collapsed": true
   },
   "outputs": [],
   "source": []
  }
 ],
 "metadata": {
  "anaconda-cloud": {},
  "kernelspec": {
   "display_name": "Python [conda root]",
   "language": "python",
   "name": "conda-root-py"
  },
  "language_info": {
   "codemirror_mode": {
    "name": "ipython",
    "version": 3
   },
   "file_extension": ".py",
   "mimetype": "text/x-python",
   "name": "python",
   "nbconvert_exporter": "python",
   "pygments_lexer": "ipython3",
   "version": "3.5.2"
  }
 },
 "nbformat": 4,
 "nbformat_minor": 1
}
